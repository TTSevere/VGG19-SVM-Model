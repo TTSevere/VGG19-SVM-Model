{
 "cells": [
  {
   "cell_type": "code",
   "execution_count": 2,
   "metadata": {},
   "outputs": [
    {
     "name": "stderr",
     "output_type": "stream",
     "text": [
      "Using TensorFlow backend.\n"
     ]
    }
   ],
   "source": [
    "import numpy as np\n",
    "import os\n",
    "import time\n",
    "from keras import backend as K\n",
    "from keras import applications\n",
    "from keras.preprocessing.image import ImageDataGenerator\n",
    "from keras import optimizers\n",
    "from keras.models import Sequential, Model, load_model \n",
    "from keras.layers import Dropout, Flatten, Dense, GlobalAveragePooling2D, Input\n",
    "from keras import backend as k \n",
    "from keras.callbacks import ModelCheckpoint, LearningRateScheduler, TensorBoard, EarlyStopping\n",
    "from keras.optimizers import Adam, RMSprop, SGD\n",
    "from keras.preprocessing.image import ImageDataGenerator\n",
    "\n",
    "from sklearn.model_selection import cross_val_score\n",
    "from sklearn.preprocessing import LabelEncoder\n",
    "from sklearn.model_selection import StratifiedKFold\n",
    "from sklearn.preprocessing import StandardScaler\n",
    "from sklearn.pipeline import Pipeline"
   ]
  },
  {
   "cell_type": "code",
   "execution_count": 3,
   "metadata": {},
   "outputs": [],
   "source": [
    "import cv2\n",
    "import pickle\n",
    "%matplotlib inline\n",
    "import matplotlib.pyplot as plt\n",
    "import matplotlib.image as mpimg"
   ]
  },
  {
   "cell_type": "code",
   "execution_count": 4,
   "metadata": {},
   "outputs": [],
   "source": [
    "def data_to_features(model,path,out):\n",
    "    feature_dict={0:[],1:[]}\n",
    "    classes=['0','1']\n",
    "    for i in classes:\n",
    "        l=os.listdir(path+i+'/')\n",
    "        for j in l:\n",
    "            im = cv2.imread(path+i+'/'+j)\n",
    "            im = cv2.resize(cv2.cvtColor(im, cv2.COLOR_BGR2RGB), (224, 224)).astype(np.float32) / 255.0\n",
    "            im = np.expand_dims(im, axis =0)\n",
    "            feature_dict[int(i)].append(model.predict(im))\n",
    "    pickle.dump(feature_dict, open(out, \"wb\" ))\n",
    "    return feature_dict"
   ]
  },
  {
   "cell_type": "code",
   "execution_count": 5,
   "metadata": {},
   "outputs": [
    {
     "name": "stdout",
     "output_type": "stream",
     "text": [
      "WARNING:tensorflow:From /usr/local/lib/python3.4/dist-packages/keras/backend/tensorflow_backend.py:1047: calling reduce_prod (from tensorflow.python.ops.math_ops) with keep_dims is deprecated and will be removed in a future version.\n",
      "Instructions for updating:\n",
      "keep_dims is deprecated, use keepdims instead\n",
      "WARNING:tensorflow:From /usr/local/lib/python3.4/dist-packages/keras/backend/tensorflow_backend.py:2385: calling reduce_sum (from tensorflow.python.ops.math_ops) with keep_dims is deprecated and will be removed in a future version.\n",
      "Instructions for updating:\n",
      "keep_dims is deprecated, use keepdims instead\n",
      "WARNING:tensorflow:From /usr/local/lib/python3.4/dist-packages/keras/backend/tensorflow_backend.py:1108: calling reduce_mean (from tensorflow.python.ops.math_ops) with keep_dims is deprecated and will be removed in a future version.\n",
      "Instructions for updating:\n",
      "keep_dims is deprecated, use keepdims instead\n"
     ]
    }
   ],
   "source": [
    "model=load_model('tune_model.h5')\n",
    "model_till_flatten = Model(input=model.input,output=model.get_layer('flatten').output)\n",
    "model_till_fc1 = Model(input=model.input,output=model.get_layer('fc1').output)"
   ]
  },
  {
   "cell_type": "code",
   "execution_count": 10,
   "metadata": {},
   "outputs": [],
   "source": [
    "feature_dict0=data_to_features(model_till_flatten,'data/train/','features_till_flatten.pkl')"
   ]
  },
  {
   "cell_type": "code",
   "execution_count": 18,
   "metadata": {},
   "outputs": [],
   "source": [
    "feature_dict1=data_to_features(model_till_fc1,'data/train/','features_till_fc1.pkl')"
   ]
  },
  {
   "cell_type": "code",
   "execution_count": 16,
   "metadata": {},
   "outputs": [
    {
     "data": {
      "text/plain": [
       "(1, 25088)"
      ]
     },
     "execution_count": 16,
     "metadata": {},
     "output_type": "execute_result"
    }
   ],
   "source": [
    "feature_dict0[0][0].shape"
   ]
  },
  {
   "cell_type": "code",
   "execution_count": 19,
   "metadata": {},
   "outputs": [
    {
     "data": {
      "text/plain": [
       "(1, 4096)"
      ]
     },
     "execution_count": 19,
     "metadata": {},
     "output_type": "execute_result"
    }
   ],
   "source": [
    "feature_dict1[0][0].shape"
   ]
  },
  {
   "cell_type": "code",
   "execution_count": 20,
   "metadata": {},
   "outputs": [
    {
     "data": {
      "text/plain": [
       "{0: [array([[0.0000000e+00, 5.3789174e+22, 0.0000000e+00, ..., 0.0000000e+00,\n",
       "          7.4159007e+21, 0.0000000e+00]], dtype=float32),\n",
       "  array([[0.0000000e+00, 4.9617306e+22, 0.0000000e+00, ..., 0.0000000e+00,\n",
       "          6.7098512e+21, 0.0000000e+00]], dtype=float32),\n",
       "  array([[0.0000000e+00, 5.3623334e+22, 0.0000000e+00, ..., 0.0000000e+00,\n",
       "          7.1442661e+21, 0.0000000e+00]], dtype=float32),\n",
       "  array([[0.0000000e+00, 5.3523759e+22, 0.0000000e+00, ..., 0.0000000e+00,\n",
       "          7.3607035e+21, 0.0000000e+00]], dtype=float32),\n",
       "  array([[0.0000000e+00, 5.1942667e+22, 0.0000000e+00, ..., 0.0000000e+00,\n",
       "          7.1939757e+21, 0.0000000e+00]], dtype=float32),\n",
       "  array([[0.000000e+00, 5.320255e+22, 0.000000e+00, ..., 0.000000e+00,\n",
       "          7.330445e+21, 0.000000e+00]], dtype=float32),\n",
       "  array([[0.0000000e+00, 5.4657842e+22, 0.0000000e+00, ..., 0.0000000e+00,\n",
       "          7.5034732e+21, 0.0000000e+00]], dtype=float32),\n",
       "  array([[0.000000e+00, 5.380960e+22, 0.000000e+00, ..., 0.000000e+00,\n",
       "          7.405048e+21, 0.000000e+00]], dtype=float32),\n",
       "  array([[0.0000000e+00, 5.4468835e+22, 0.0000000e+00, ..., 0.0000000e+00,\n",
       "          7.5486331e+21, 0.0000000e+00]], dtype=float32),\n",
       "  array([[0.0000000e+00, 5.1427352e+22, 0.0000000e+00, ..., 0.0000000e+00,\n",
       "          7.2748604e+21, 0.0000000e+00]], dtype=float32),\n",
       "  array([[0.0000000e+00, 5.3383355e+22, 0.0000000e+00, ..., 0.0000000e+00,\n",
       "          7.4481110e+21, 0.0000000e+00]], dtype=float32),\n",
       "  array([[0.0000000e+00, 5.4615171e+22, 0.0000000e+00, ..., 0.0000000e+00,\n",
       "          7.4197446e+21, 0.0000000e+00]], dtype=float32),\n",
       "  array([[0.0000000e+00, 5.3884173e+22, 0.0000000e+00, ..., 0.0000000e+00,\n",
       "          7.5743745e+21, 0.0000000e+00]], dtype=float32),\n",
       "  array([[0.0000000e+00, 5.3117652e+22, 0.0000000e+00, ..., 0.0000000e+00,\n",
       "          7.4588853e+21, 0.0000000e+00]], dtype=float32),\n",
       "  array([[0.000000e+00, 5.193179e+22, 0.000000e+00, ..., 0.000000e+00,\n",
       "          6.988037e+21, 0.000000e+00]], dtype=float32),\n",
       "  array([[0.000000e+00, 5.257394e+22, 0.000000e+00, ..., 0.000000e+00,\n",
       "          7.238006e+21, 0.000000e+00]], dtype=float32),\n",
       "  array([[0.0000000e+00, 4.9517988e+22, 0.0000000e+00, ..., 0.0000000e+00,\n",
       "          6.3189680e+21, 0.0000000e+00]], dtype=float32),\n",
       "  array([[0.000000e+00, 4.886876e+22, 0.000000e+00, ..., 0.000000e+00,\n",
       "          6.842348e+21, 0.000000e+00]], dtype=float32),\n",
       "  array([[0.000000e+00, 5.232591e+22, 0.000000e+00, ..., 0.000000e+00,\n",
       "          7.185449e+21, 0.000000e+00]], dtype=float32),\n",
       "  array([[0.0000000e+00, 5.3427193e+22, 0.0000000e+00, ..., 0.0000000e+00,\n",
       "          7.3954471e+21, 0.0000000e+00]], dtype=float32),\n",
       "  array([[0.0000000e+00, 5.4105953e+22, 0.0000000e+00, ..., 0.0000000e+00,\n",
       "          7.3764796e+21, 0.0000000e+00]], dtype=float32),\n",
       "  array([[0.000000e+00, 5.457089e+22, 0.000000e+00, ..., 0.000000e+00,\n",
       "          7.502991e+21, 0.000000e+00]], dtype=float32),\n",
       "  array([[0.000000e+00, 4.873957e+22, 0.000000e+00, ..., 0.000000e+00,\n",
       "          7.495981e+21, 0.000000e+00]], dtype=float32),\n",
       "  array([[0.0000000e+00, 5.3700634e+22, 0.0000000e+00, ..., 0.0000000e+00,\n",
       "          7.4230885e+21, 0.0000000e+00]], dtype=float32),\n",
       "  array([[0.0000000e+00, 4.8640885e+22, 0.0000000e+00, ..., 0.0000000e+00,\n",
       "          6.8628159e+21, 0.0000000e+00]], dtype=float32),\n",
       "  array([[0.000000e+00, 5.167172e+22, 0.000000e+00, ..., 0.000000e+00,\n",
       "          7.415102e+21, 0.000000e+00]], dtype=float32),\n",
       "  array([[0.0000000e+00, 5.3335707e+22, 0.0000000e+00, ..., 0.0000000e+00,\n",
       "          7.4269914e+21, 0.0000000e+00]], dtype=float32)],\n",
       " 1: [array([[0.000000e+00, 4.480758e+22, 0.000000e+00, ..., 0.000000e+00,\n",
       "          6.143762e+21, 0.000000e+00]], dtype=float32),\n",
       "  array([[0.0000000e+00, 4.6257553e+22, 0.0000000e+00, ..., 0.0000000e+00,\n",
       "          6.3583373e+21, 0.0000000e+00]], dtype=float32),\n",
       "  array([[0.000000e+00, 4.614926e+22, 0.000000e+00, ..., 0.000000e+00,\n",
       "          6.348331e+21, 0.000000e+00]], dtype=float32),\n",
       "  array([[0.000000e+00, 4.466899e+22, 0.000000e+00, ..., 0.000000e+00,\n",
       "          6.144114e+21, 0.000000e+00]], dtype=float32),\n",
       "  array([[0.0000000e+00, 4.5941625e+22, 0.0000000e+00, ..., 0.0000000e+00,\n",
       "          6.2942179e+21, 0.0000000e+00]], dtype=float32),\n",
       "  array([[0.000000e+00, 4.477021e+22, 0.000000e+00, ..., 0.000000e+00,\n",
       "          6.128261e+21, 0.000000e+00]], dtype=float32),\n",
       "  array([[0.0000000e+00, 4.5979095e+22, 0.0000000e+00, ..., 0.0000000e+00,\n",
       "          6.3146586e+21, 0.0000000e+00]], dtype=float32),\n",
       "  array([[0.0000000e+00, 4.6271257e+22, 0.0000000e+00, ..., 0.0000000e+00,\n",
       "          6.3688735e+21, 0.0000000e+00]], dtype=float32),\n",
       "  array([[0.000000e+00, 4.479258e+22, 0.000000e+00, ..., 0.000000e+00,\n",
       "          6.167223e+21, 0.000000e+00]], dtype=float32),\n",
       "  array([[0.0000000e+00, 4.6213854e+22, 0.0000000e+00, ..., 0.0000000e+00,\n",
       "          6.3397983e+21, 0.0000000e+00]], dtype=float32),\n",
       "  array([[0.0000000e+00, 4.4785114e+22, 0.0000000e+00, ..., 0.0000000e+00,\n",
       "          6.1708643e+21, 0.0000000e+00]], dtype=float32),\n",
       "  array([[0.000000e+00, 4.629506e+22, 0.000000e+00, ..., 0.000000e+00,\n",
       "          6.363336e+21, 0.000000e+00]], dtype=float32),\n",
       "  array([[0.0000000e+00, 4.6250324e+22, 0.0000000e+00, ..., 0.0000000e+00,\n",
       "          6.3491427e+21, 0.0000000e+00]], dtype=float32),\n",
       "  array([[0.0000000e+00, 4.6142846e+22, 0.0000000e+00, ..., 0.0000000e+00,\n",
       "          6.3557590e+21, 0.0000000e+00]], dtype=float32),\n",
       "  array([[0.000000e+00, 4.476135e+22, 0.000000e+00, ..., 0.000000e+00,\n",
       "          6.176684e+21, 0.000000e+00]], dtype=float32),\n",
       "  array([[0.0000000e+00, 4.5994006e+22, 0.0000000e+00, ..., 0.0000000e+00,\n",
       "          6.3344688e+21, 0.0000000e+00]], dtype=float32)]}"
      ]
     },
     "execution_count": 20,
     "metadata": {},
     "output_type": "execute_result"
    }
   ],
   "source": [
    "feature_dict0"
   ]
  },
  {
   "cell_type": "code",
   "execution_count": 6,
   "metadata": {},
   "outputs": [],
   "source": [
    "feature_dict2=data_to_features(model_till_flatten,'data/validation/','features_till_flatten_validation.pkl')"
   ]
  },
  {
   "cell_type": "code",
   "execution_count": null,
   "metadata": {},
   "outputs": [],
   "source": []
  }
 ],
 "metadata": {
  "kernelspec": {
   "display_name": "Python 3",
   "language": "python",
   "name": "python3"
  },
  "language_info": {
   "codemirror_mode": {
    "name": "ipython",
    "version": 3
   },
   "file_extension": ".py",
   "mimetype": "text/x-python",
   "name": "python",
   "nbconvert_exporter": "python",
   "pygments_lexer": "ipython3",
   "version": "3.4.3"
  }
 },
 "nbformat": 4,
 "nbformat_minor": 2
}
